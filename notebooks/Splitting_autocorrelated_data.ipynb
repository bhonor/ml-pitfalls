{
 "cells": [
  {
   "cell_type": "markdown",
   "id": "306b7284",
   "metadata": {},
   "source": [
    "# Splitting autocorrelated data\n",
    "\n",
    "We'll make some autocorrelated data and then try learning on it, with and without leakage."
   ]
  },
  {
   "cell_type": "code",
   "execution_count": null,
   "id": "f4394372",
   "metadata": {},
   "outputs": [],
   "source": [
    "import numpy as np\n",
    "import pandas as pd\n",
    "import matplotlib.pyplot as plt\n",
    "import seaborn as sns\n",
    "\n",
    "well_logs = 'https://geocomp.s3.amazonaws.com/data/Colorado_wells.csv.zip'\n",
    "df = pd.read_csv(well_logs, index_col=0)\n",
    "df.describe()"
   ]
  },
  {
   "cell_type": "code",
   "execution_count": null,
   "id": "2c99b00b",
   "metadata": {},
   "outputs": [],
   "source": [
    "df = df.dropna()"
   ]
  },
  {
   "cell_type": "code",
   "execution_count": null,
   "id": "c9c41c9d",
   "metadata": {},
   "outputs": [],
   "source": [
    "df = df[df['DT'] > 50]"
   ]
  },
  {
   "cell_type": "code",
   "execution_count": null,
   "id": "8bb4ddfc",
   "metadata": {},
   "outputs": [],
   "source": [
    "df['log_RES'] = np.log10(df['RES'])"
   ]
  },
  {
   "cell_type": "code",
   "execution_count": null,
   "id": "70ffb2f5",
   "metadata": {},
   "outputs": [],
   "source": [
    "df.head()"
   ]
  },
  {
   "cell_type": "code",
   "execution_count": null,
   "id": "a51a3464",
   "metadata": {},
   "outputs": [],
   "source": [
    "len(df['Well'].unique())"
   ]
  },
  {
   "cell_type": "markdown",
   "id": "4e4b6f79",
   "metadata": {},
   "source": [
    "## Reduce dataset size and make holdout\n",
    "\n",
    "The effect I want to illustrate will show up more obviously in a relatively small dataset. Let's start with only 10 wells, but we can change it later and run again."
   ]
  },
  {
   "cell_type": "code",
   "execution_count": null,
   "id": "2ef6952b",
   "metadata": {},
   "outputs": [],
   "source": [
    "df_ = df[df['Well'] >= 80]\n",
    "test = df[df['Well'] < 80]"
   ]
  },
  {
   "cell_type": "code",
   "execution_count": null,
   "id": "85c66d10",
   "metadata": {},
   "outputs": [],
   "source": [
    "df_['Well'].unique()"
   ]
  },
  {
   "cell_type": "markdown",
   "id": "f07dd6a6",
   "metadata": {},
   "source": [
    "## Split naively"
   ]
  },
  {
   "cell_type": "code",
   "execution_count": null,
   "id": "cde8037f",
   "metadata": {},
   "outputs": [],
   "source": [
    "from sklearn.model_selection import train_test_split\n",
    "\n",
    "features = ['GR', 'log_RES', 'NPHI', 'RHOB']\n",
    "\n",
    "X = df_[features].values\n",
    "y = df_['DT'].values\n",
    "\n",
    "X_train, X_val, y_train, y_val = train_test_split(X, y, train_size=0.6, random_state=42)\n",
    "\n",
    "X_test = test[features].values\n",
    "y_test = test['DT'].values"
   ]
  },
  {
   "cell_type": "code",
   "execution_count": null,
   "id": "bada8941",
   "metadata": {},
   "outputs": [],
   "source": [
    "from sklearn.preprocessing import StandardScaler\n",
    "from sklearn.pipeline import make_pipeline\n",
    "from sklearn.linear_model import Ridge, LinearRegression\n",
    "\n",
    "pipe = make_pipeline(StandardScaler(), Ridge())"
   ]
  },
  {
   "cell_type": "code",
   "execution_count": null,
   "id": "b7eda472",
   "metadata": {},
   "outputs": [],
   "source": [
    "from sklearn.metrics import mean_squared_error, r2_score\n",
    "\n",
    "pipe.fit(X_train, y_train)\n",
    "y_pred = pipe.predict(X_val)\n",
    "np.sqrt(mean_squared_error(y_val, y_pred)), r2_score(y_val, y_pred)"
   ]
  },
  {
   "cell_type": "markdown",
   "id": "a427251f",
   "metadata": {},
   "source": [
    "Let's look at the performance on the holdout:"
   ]
  },
  {
   "cell_type": "code",
   "execution_count": null,
   "id": "b9b59d63",
   "metadata": {},
   "outputs": [],
   "source": [
    "y_pred_test = pipe.predict(X_test)\n",
    "print(\"RMSE:\", np.sqrt(mean_squared_error(y_test, y_pred_test)))\n",
    "print(\"R2:  \", r2_score(y_test, y_pred_test))"
   ]
  },
  {
   "cell_type": "markdown",
   "id": "dd7f6871",
   "metadata": {},
   "source": [
    "## Split by well\n",
    "\n",
    "Note that wells can still be spatially correlated, we don't have location info in this dataset."
   ]
  },
  {
   "cell_type": "code",
   "execution_count": null,
   "id": "84b32efb",
   "metadata": {},
   "outputs": [],
   "source": [
    "from sklearn.model_selection import GroupShuffleSplit\n",
    "\n",
    "gss = GroupShuffleSplit(n_splits=1, train_size=0.6, random_state=42)\n",
    "(train_idx, val_idx), = gss.split(X, y, df_['Well'])"
   ]
  },
  {
   "cell_type": "code",
   "execution_count": null,
   "id": "4c3edb09",
   "metadata": {},
   "outputs": [],
   "source": [
    "X_train = df[features].values[train_idx]\n",
    "X_val = df[features].values[val_idx]\n",
    "\n",
    "y_train = df['DT'].values[train_idx]\n",
    "y_val = df['DT'].values[val_idx]"
   ]
  },
  {
   "cell_type": "code",
   "execution_count": null,
   "id": "18ceeb7f",
   "metadata": {},
   "outputs": [],
   "source": [
    "pipe.fit(X_train, y_train)\n",
    "y_pred = pipe.predict(X_val)\n",
    "np.sqrt(mean_squared_error(y_val, y_pred)), r2_score(y_val, y_pred)"
   ]
  },
  {
   "cell_type": "code",
   "execution_count": null,
   "id": "0b26c151",
   "metadata": {},
   "outputs": [],
   "source": [
    "y_pred_test_correct = pipe.predict(X_test)\n",
    "print(\"RMSE:\", np.sqrt(mean_squared_error(y_test, y_pred_test_correct)))\n",
    "print(\"R2:  \", r2_score(y_test, y_pred_test_correct))"
   ]
  },
  {
   "cell_type": "markdown",
   "id": "b418a01c",
   "metadata": {},
   "source": [
    "## Compare\n",
    "\n",
    "How do they compare qualitatively?"
   ]
  },
  {
   "cell_type": "code",
   "execution_count": null,
   "id": "d017b3cc",
   "metadata": {},
   "outputs": [],
   "source": [
    "import matplotlib.pyplot as plt\n",
    "\n",
    "fig, ax = plt.subplots(figsize=(15, 3))\n",
    "ax.plot(y_test[:500], label='Actual')\n",
    "ax.plot(y_pred_test[:500], label='Leaky')\n",
    "ax.plot(y_pred_test_correct[:500], label='Correct')\n",
    "ax.legend()"
   ]
  },
  {
   "cell_type": "code",
   "execution_count": null,
   "id": "b46847ae",
   "metadata": {},
   "outputs": [],
   "source": []
  },
  {
   "cell_type": "markdown",
   "id": "b8b31fe7",
   "metadata": {},
   "source": [
    "---\n",
    "\n",
    "&copy; 2023 Matt Hall, licensed CC BY"
   ]
  }
 ],
 "metadata": {
  "kernelspec": {
   "display_name": "redflag",
   "language": "python",
   "name": "redflag"
  },
  "language_info": {
   "codemirror_mode": {
    "name": "ipython",
    "version": 3
   },
   "file_extension": ".py",
   "mimetype": "text/x-python",
   "name": "python",
   "nbconvert_exporter": "python",
   "pygments_lexer": "ipython3",
   "version": "3.10.8"
  }
 },
 "nbformat": 4,
 "nbformat_minor": 5
}
