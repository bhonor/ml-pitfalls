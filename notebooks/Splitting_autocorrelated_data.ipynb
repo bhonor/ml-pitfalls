{
 "cells": [
  {
   "cell_type": "markdown",
   "id": "306b7284",
   "metadata": {},
   "source": [
    "# Splitting autocorrelated data\n",
    "\n",
    "We'll make some autocorrelated data and then try learning on it, with and without leakage."
   ]
  },
  {
   "cell_type": "code",
   "execution_count": 1,
   "id": "f4394372",
   "metadata": {},
   "outputs": [
    {
     "data": {
      "text/html": [
       "<div>\n",
       "<style scoped>\n",
       "    .dataframe tbody tr th:only-of-type {\n",
       "        vertical-align: middle;\n",
       "    }\n",
       "\n",
       "    .dataframe tbody tr th {\n",
       "        vertical-align: top;\n",
       "    }\n",
       "\n",
       "    .dataframe thead th {\n",
       "        text-align: right;\n",
       "    }\n",
       "</style>\n",
       "<table border=\"1\" class=\"dataframe\">\n",
       "  <thead>\n",
       "    <tr style=\"text-align: right;\">\n",
       "      <th></th>\n",
       "      <th>Well</th>\n",
       "      <th>Depth</th>\n",
       "      <th>CAL</th>\n",
       "      <th>GR</th>\n",
       "      <th>SP</th>\n",
       "      <th>RES</th>\n",
       "      <th>NPHI</th>\n",
       "      <th>RHOB</th>\n",
       "      <th>DT</th>\n",
       "    </tr>\n",
       "  </thead>\n",
       "  <tbody>\n",
       "    <tr>\n",
       "      <th>count</th>\n",
       "      <td>396571.000000</td>\n",
       "      <td>396571.000000</td>\n",
       "      <td>390209.000000</td>\n",
       "      <td>386045.000000</td>\n",
       "      <td>396241.000000</td>\n",
       "      <td>394789.000000</td>\n",
       "      <td>388661.000000</td>\n",
       "      <td>389977.000000</td>\n",
       "      <td>392578.000000</td>\n",
       "    </tr>\n",
       "    <tr>\n",
       "      <th>mean</th>\n",
       "      <td>47.199818</td>\n",
       "      <td>2006.378918</td>\n",
       "      <td>8.173011</td>\n",
       "      <td>115.664645</td>\n",
       "      <td>-26.063578</td>\n",
       "      <td>8.718017</td>\n",
       "      <td>1.712450</td>\n",
       "      <td>2.541765</td>\n",
       "      <td>84.399025</td>\n",
       "    </tr>\n",
       "    <tr>\n",
       "      <th>std</th>\n",
       "      <td>28.037796</td>\n",
       "      <td>286.510339</td>\n",
       "      <td>0.556594</td>\n",
       "      <td>35.948221</td>\n",
       "      <td>184.768790</td>\n",
       "      <td>37.503786</td>\n",
       "      <td>7.263193</td>\n",
       "      <td>2.403070</td>\n",
       "      <td>11.065214</td>\n",
       "    </tr>\n",
       "    <tr>\n",
       "      <th>min</th>\n",
       "      <td>1.000000</td>\n",
       "      <td>1321.917600</td>\n",
       "      <td>2.980800</td>\n",
       "      <td>3.090000</td>\n",
       "      <td>-848.849399</td>\n",
       "      <td>0.133100</td>\n",
       "      <td>-1.027000</td>\n",
       "      <td>-811.401500</td>\n",
       "      <td>-2.996000</td>\n",
       "    </tr>\n",
       "    <tr>\n",
       "      <th>25%</th>\n",
       "      <td>21.000000</td>\n",
       "      <td>1778.508000</td>\n",
       "      <td>7.836000</td>\n",
       "      <td>101.417700</td>\n",
       "      <td>-171.557200</td>\n",
       "      <td>2.751800</td>\n",
       "      <td>0.212600</td>\n",
       "      <td>2.519700</td>\n",
       "      <td>78.257500</td>\n",
       "    </tr>\n",
       "    <tr>\n",
       "      <th>50%</th>\n",
       "      <td>47.000000</td>\n",
       "      <td>1982.724000</td>\n",
       "      <td>8.010500</td>\n",
       "      <td>113.061400</td>\n",
       "      <td>16.230400</td>\n",
       "      <td>3.733300</td>\n",
       "      <td>0.262800</td>\n",
       "      <td>2.559400</td>\n",
       "      <td>86.151100</td>\n",
       "    </tr>\n",
       "    <tr>\n",
       "      <th>75%</th>\n",
       "      <td>71.000000</td>\n",
       "      <td>2200.198800</td>\n",
       "      <td>8.410800</td>\n",
       "      <td>126.983600</td>\n",
       "      <td>123.327100</td>\n",
       "      <td>6.351000</td>\n",
       "      <td>0.297200</td>\n",
       "      <td>2.589000</td>\n",
       "      <td>92.165875</td>\n",
       "    </tr>\n",
       "    <tr>\n",
       "      <th>max</th>\n",
       "      <td>96.000000</td>\n",
       "      <td>2810.560800</td>\n",
       "      <td>14.785900</td>\n",
       "      <td>2160.508497</td>\n",
       "      <td>662.844700</td>\n",
       "      <td>2000.000000</td>\n",
       "      <td>88.737900</td>\n",
       "      <td>3.033000</td>\n",
       "      <td>144.353400</td>\n",
       "    </tr>\n",
       "  </tbody>\n",
       "</table>\n",
       "</div>"
      ],
      "text/plain": [
       "                Well          Depth            CAL             GR  \\\n",
       "count  396571.000000  396571.000000  390209.000000  386045.000000   \n",
       "mean       47.199818    2006.378918       8.173011     115.664645   \n",
       "std        28.037796     286.510339       0.556594      35.948221   \n",
       "min         1.000000    1321.917600       2.980800       3.090000   \n",
       "25%        21.000000    1778.508000       7.836000     101.417700   \n",
       "50%        47.000000    1982.724000       8.010500     113.061400   \n",
       "75%        71.000000    2200.198800       8.410800     126.983600   \n",
       "max        96.000000    2810.560800      14.785900    2160.508497   \n",
       "\n",
       "                  SP            RES           NPHI           RHOB  \\\n",
       "count  396241.000000  394789.000000  388661.000000  389977.000000   \n",
       "mean      -26.063578       8.718017       1.712450       2.541765   \n",
       "std       184.768790      37.503786       7.263193       2.403070   \n",
       "min      -848.849399       0.133100      -1.027000    -811.401500   \n",
       "25%      -171.557200       2.751800       0.212600       2.519700   \n",
       "50%        16.230400       3.733300       0.262800       2.559400   \n",
       "75%       123.327100       6.351000       0.297200       2.589000   \n",
       "max       662.844700    2000.000000      88.737900       3.033000   \n",
       "\n",
       "                  DT  \n",
       "count  392578.000000  \n",
       "mean       84.399025  \n",
       "std        11.065214  \n",
       "min        -2.996000  \n",
       "25%        78.257500  \n",
       "50%        86.151100  \n",
       "75%        92.165875  \n",
       "max       144.353400  "
      ]
     },
     "execution_count": 1,
     "metadata": {},
     "output_type": "execute_result"
    }
   ],
   "source": [
    "import numpy as np\n",
    "import pandas as pd\n",
    "import matplotlib.pyplot as plt\n",
    "import seaborn as sns\n",
    "\n",
    "well_logs = 'https://geocomp.s3.amazonaws.com/data/Colorado_wells.csv.zip'\n",
    "df = pd.read_csv(well_logs, index_col=0)\n",
    "df.describe()"
   ]
  },
  {
   "cell_type": "code",
   "execution_count": 2,
   "id": "2c99b00b",
   "metadata": {},
   "outputs": [],
   "source": [
    "df = df.dropna()"
   ]
  },
  {
   "cell_type": "code",
   "execution_count": 3,
   "id": "c9c41c9d",
   "metadata": {},
   "outputs": [],
   "source": [
    "df = df[df['DT'] > 50]"
   ]
  },
  {
   "cell_type": "code",
   "execution_count": 4,
   "id": "8bb4ddfc",
   "metadata": {},
   "outputs": [],
   "source": [
    "df['log_RES'] = np.log10(df['RES'])"
   ]
  },
  {
   "cell_type": "code",
   "execution_count": 5,
   "id": "70ffb2f5",
   "metadata": {},
   "outputs": [
    {
     "data": {
      "text/html": [
       "<div>\n",
       "<style scoped>\n",
       "    .dataframe tbody tr th:only-of-type {\n",
       "        vertical-align: middle;\n",
       "    }\n",
       "\n",
       "    .dataframe tbody tr th {\n",
       "        vertical-align: top;\n",
       "    }\n",
       "\n",
       "    .dataframe thead th {\n",
       "        text-align: right;\n",
       "    }\n",
       "</style>\n",
       "<table border=\"1\" class=\"dataframe\">\n",
       "  <thead>\n",
       "    <tr style=\"text-align: right;\">\n",
       "      <th></th>\n",
       "      <th>Well</th>\n",
       "      <th>Depth</th>\n",
       "      <th>CAL</th>\n",
       "      <th>GR</th>\n",
       "      <th>SP</th>\n",
       "      <th>RES</th>\n",
       "      <th>NPHI</th>\n",
       "      <th>RHOB</th>\n",
       "      <th>DT</th>\n",
       "      <th>log_RES</th>\n",
       "    </tr>\n",
       "  </thead>\n",
       "  <tbody>\n",
       "    <tr>\n",
       "      <th>0</th>\n",
       "      <td>1.0</td>\n",
       "      <td>1681.5816</td>\n",
       "      <td>8.5207</td>\n",
       "      <td>114.6138</td>\n",
       "      <td>58.7831</td>\n",
       "      <td>7.4246</td>\n",
       "      <td>0.1960</td>\n",
       "      <td>2.5989</td>\n",
       "      <td>76.6762</td>\n",
       "      <td>0.870673</td>\n",
       "    </tr>\n",
       "    <tr>\n",
       "      <th>1</th>\n",
       "      <td>1.0</td>\n",
       "      <td>1681.7340</td>\n",
       "      <td>8.5652</td>\n",
       "      <td>113.3488</td>\n",
       "      <td>58.7735</td>\n",
       "      <td>7.4886</td>\n",
       "      <td>0.1916</td>\n",
       "      <td>2.5859</td>\n",
       "      <td>76.5024</td>\n",
       "      <td>0.874401</td>\n",
       "    </tr>\n",
       "    <tr>\n",
       "      <th>2</th>\n",
       "      <td>1.0</td>\n",
       "      <td>1681.8864</td>\n",
       "      <td>8.5683</td>\n",
       "      <td>119.9841</td>\n",
       "      <td>59.0329</td>\n",
       "      <td>7.5989</td>\n",
       "      <td>0.1851</td>\n",
       "      <td>2.5830</td>\n",
       "      <td>75.9684</td>\n",
       "      <td>0.880751</td>\n",
       "    </tr>\n",
       "    <tr>\n",
       "      <th>3</th>\n",
       "      <td>1.0</td>\n",
       "      <td>1682.0388</td>\n",
       "      <td>8.5203</td>\n",
       "      <td>121.0104</td>\n",
       "      <td>59.2197</td>\n",
       "      <td>7.7094</td>\n",
       "      <td>0.1894</td>\n",
       "      <td>2.5882</td>\n",
       "      <td>75.7419</td>\n",
       "      <td>0.887021</td>\n",
       "    </tr>\n",
       "    <tr>\n",
       "      <th>4</th>\n",
       "      <td>1.0</td>\n",
       "      <td>1682.1912</td>\n",
       "      <td>8.4563</td>\n",
       "      <td>118.1462</td>\n",
       "      <td>59.9868</td>\n",
       "      <td>7.7865</td>\n",
       "      <td>0.1956</td>\n",
       "      <td>2.5906</td>\n",
       "      <td>76.5455</td>\n",
       "      <td>0.891342</td>\n",
       "    </tr>\n",
       "  </tbody>\n",
       "</table>\n",
       "</div>"
      ],
      "text/plain": [
       "   Well      Depth     CAL        GR       SP     RES    NPHI    RHOB  \\\n",
       "0   1.0  1681.5816  8.5207  114.6138  58.7831  7.4246  0.1960  2.5989   \n",
       "1   1.0  1681.7340  8.5652  113.3488  58.7735  7.4886  0.1916  2.5859   \n",
       "2   1.0  1681.8864  8.5683  119.9841  59.0329  7.5989  0.1851  2.5830   \n",
       "3   1.0  1682.0388  8.5203  121.0104  59.2197  7.7094  0.1894  2.5882   \n",
       "4   1.0  1682.1912  8.4563  118.1462  59.9868  7.7865  0.1956  2.5906   \n",
       "\n",
       "        DT   log_RES  \n",
       "0  76.6762  0.870673  \n",
       "1  76.5024  0.874401  \n",
       "2  75.9684  0.880751  \n",
       "3  75.7419  0.887021  \n",
       "4  76.5455  0.891342  "
      ]
     },
     "execution_count": 5,
     "metadata": {},
     "output_type": "execute_result"
    }
   ],
   "source": [
    "df.head()"
   ]
  },
  {
   "cell_type": "code",
   "execution_count": 6,
   "id": "a51a3464",
   "metadata": {},
   "outputs": [
    {
     "data": {
      "text/plain": [
       "74"
      ]
     },
     "execution_count": 6,
     "metadata": {},
     "output_type": "execute_result"
    }
   ],
   "source": [
    "len(df['Well'].unique())"
   ]
  },
  {
   "cell_type": "markdown",
   "id": "4e4b6f79",
   "metadata": {},
   "source": [
    "## Reduce dataset size and make holdout\n",
    "\n",
    "The effect I want to illustrate will show up more obviously in a relatively small dataset. Let's start with only 10 wells, but we can change it later and run again."
   ]
  },
  {
   "cell_type": "code",
   "execution_count": 312,
   "id": "2ef6952b",
   "metadata": {},
   "outputs": [],
   "source": [
    "df_ = df[df['Well'] >= 80]\n",
    "test = df[df['Well'] < 80]"
   ]
  },
  {
   "cell_type": "code",
   "execution_count": 313,
   "id": "85c66d10",
   "metadata": {},
   "outputs": [
    {
     "data": {
      "text/plain": [
       "array([80., 81., 83., 84., 85., 86., 87., 88., 89., 90., 93., 94., 95.,\n",
       "       96.])"
      ]
     },
     "execution_count": 313,
     "metadata": {},
     "output_type": "execute_result"
    }
   ],
   "source": [
    "df_['Well'].unique()"
   ]
  },
  {
   "cell_type": "markdown",
   "id": "f07dd6a6",
   "metadata": {},
   "source": [
    "## Split naively"
   ]
  },
  {
   "cell_type": "code",
   "execution_count": 314,
   "id": "cde8037f",
   "metadata": {},
   "outputs": [],
   "source": [
    "from sklearn.model_selection import train_test_split\n",
    "\n",
    "features = ['GR', 'log_RES', 'NPHI', 'RHOB']\n",
    "\n",
    "X = df_[features].values\n",
    "y = df_['DT'].values\n",
    "\n",
    "X_train, X_val, y_train, y_val = train_test_split(X, y, train_size=0.6, random_state=42)\n",
    "\n",
    "X_test = test[features].values\n",
    "y_test = test['DT'].values"
   ]
  },
  {
   "cell_type": "code",
   "execution_count": 315,
   "id": "bada8941",
   "metadata": {},
   "outputs": [],
   "source": [
    "from sklearn.preprocessing import StandardScaler\n",
    "from sklearn.pipeline import make_pipeline\n",
    "from sklearn.linear_model import Ridge, LinearRegression\n",
    "\n",
    "pipe = make_pipeline(StandardScaler(), Ridge())"
   ]
  },
  {
   "cell_type": "code",
   "execution_count": 316,
   "id": "b7eda472",
   "metadata": {},
   "outputs": [
    {
     "data": {
      "text/plain": [
       "(3.6657938724978063, 0.8314440956000599)"
      ]
     },
     "execution_count": 316,
     "metadata": {},
     "output_type": "execute_result"
    }
   ],
   "source": [
    "from sklearn.metrics import mean_squared_error, r2_score\n",
    "\n",
    "pipe.fit(X_train, y_train)\n",
    "y_pred = pipe.predict(X_val)\n",
    "np.sqrt(mean_squared_error(y_val, y_pred)), r2_score(y_val, y_pred)"
   ]
  },
  {
   "cell_type": "markdown",
   "id": "a427251f",
   "metadata": {},
   "source": [
    "Let's look at the performance on the holdout:"
   ]
  },
  {
   "cell_type": "code",
   "execution_count": 317,
   "id": "b9b59d63",
   "metadata": {},
   "outputs": [
    {
     "name": "stdout",
     "output_type": "stream",
     "text": [
      "RMSE: 104.5315166606079\n",
      "R2:   -85.9602479578131\n"
     ]
    }
   ],
   "source": [
    "y_pred_test = pipe.predict(X_test)\n",
    "print(\"RMSE:\", np.sqrt(mean_squared_error(y_test, y_pred_test)))\n",
    "print(\"R2:  \", r2_score(y_test, y_pred_test))"
   ]
  },
  {
   "cell_type": "markdown",
   "id": "dd7f6871",
   "metadata": {},
   "source": [
    "## Split by well\n",
    "\n",
    "Note that wells can still be spatially correlated, we don't have location info in this dataset."
   ]
  },
  {
   "cell_type": "code",
   "execution_count": 318,
   "id": "84b32efb",
   "metadata": {},
   "outputs": [],
   "source": [
    "from sklearn.model_selection import GroupShuffleSplit\n",
    "\n",
    "gss = GroupShuffleSplit(n_splits=1, train_size=0.6, random_state=42)\n",
    "(train_idx, val_idx), = gss.split(X, y, df_['Well'])"
   ]
  },
  {
   "cell_type": "code",
   "execution_count": 319,
   "id": "4c3edb09",
   "metadata": {},
   "outputs": [],
   "source": [
    "X_train = df[features].values[train_idx]\n",
    "X_val = df[features].values[val_idx]\n",
    "\n",
    "y_train = df['DT'].values[train_idx]\n",
    "y_val = df['DT'].values[val_idx]"
   ]
  },
  {
   "cell_type": "code",
   "execution_count": 320,
   "id": "18ceeb7f",
   "metadata": {},
   "outputs": [
    {
     "data": {
      "text/plain": [
       "(7.776456083302048, 0.6747586074718034)"
      ]
     },
     "execution_count": 320,
     "metadata": {},
     "output_type": "execute_result"
    }
   ],
   "source": [
    "pipe.fit(X_train, y_train)\n",
    "y_pred = pipe.predict(X_val)\n",
    "np.sqrt(mean_squared_error(y_val, y_pred)), r2_score(y_val, y_pred)"
   ]
  },
  {
   "cell_type": "code",
   "execution_count": 321,
   "id": "0b26c151",
   "metadata": {},
   "outputs": [
    {
     "name": "stdout",
     "output_type": "stream",
     "text": [
      "RMSE: 5.670893146490848\n",
      "R2:   0.7440652868570408\n"
     ]
    }
   ],
   "source": [
    "y_pred_test_correct = pipe.predict(X_test)\n",
    "print(\"RMSE:\", np.sqrt(mean_squared_error(y_test, y_pred_test_correct)))\n",
    "print(\"R2:  \", r2_score(y_test, y_pred_test_correct))"
   ]
  },
  {
   "cell_type": "markdown",
   "id": "b418a01c",
   "metadata": {},
   "source": [
    "## Compare\n",
    "\n",
    "How do they compare qualitatively?"
   ]
  },
  {
   "cell_type": "code",
   "execution_count": 322,
   "id": "d017b3cc",
   "metadata": {},
   "outputs": [
    {
     "data": {
      "text/plain": [
       "<matplotlib.legend.Legend at 0x7f8dfccd8790>"
      ]
     },
     "execution_count": 322,
     "metadata": {},
     "output_type": "execute_result"
    },
    {
     "data": {
      "image/png": "[encoded data removed]",
      "text/plain": [
       "<Figure size 1500x300 with 1 Axes>"
      ]
     },
     "metadata": {},
     "output_type": "display_data"
    }
   ],
   "source": [
    "import matplotlib.pyplot as plt\n",
    "\n",
    "fig, ax = plt.subplots(figsize=(15, 3))\n",
    "ax.plot(y_test[:500], label='Actual')\n",
    "ax.plot(y_pred_test[:500], label='Leaky')\n",
    "ax.plot(y_pred_test_correct[:500], label='Correct')\n",
    "ax.legend()"
   ]
  },
  {
   "cell_type": "code",
   "execution_count": null,
   "id": "b46847ae",
   "metadata": {},
   "outputs": [],
   "source": []
  }
 ],
 "metadata": {
  "kernelspec": {
   "display_name": "redflag",
   "language": "python",
   "name": "redflag"
  },
  "language_info": {
   "codemirror_mode": {
    "name": "ipython",
    "version": 3
   },
   "file_extension": ".py",
   "mimetype": "text/x-python",
   "name": "python",
   "nbconvert_exporter": "python",
   "pygments_lexer": "ipython3",
   "version": "3.10.8"
  }
 },
 "nbformat": 4,
 "nbformat_minor": 5
}
