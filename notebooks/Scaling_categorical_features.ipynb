{
 "cells": [
  {
   "cell_type": "markdown",
   "id": "e79831f6",
   "metadata": {},
   "source": [
    "# Scaling categorical features\n",
    "\n",
    "Some features are categorical. Don't scale them.\n",
    "\n",
    "**Unless I'm doing something wrong, it actually does not seem to make any difference**"
   ]
  },
  {
   "cell_type": "code",
   "execution_count": 1,
   "id": "83cdb63b",
   "metadata": {},
   "outputs": [],
   "source": [
    "from sklearn.datasets import make_classification\n",
    "from sklearn.model_selection import train_test_split\n",
    "import numpy as np\n",
    "\n",
    "X, y = make_classification(n_samples=10000, n_features=4, weights=[0.85])  # First 2 features are informative.\n",
    "\n",
    "X[:, 0] = np.digitize(X[:, 0], bins=np.linspace(-4, 4, 9))\n",
    "\n",
    "X_train, X_test, y_train, y_test = train_test_split(X, y)"
   ]
  },
  {
   "cell_type": "code",
   "execution_count": 2,
   "id": "04495623",
   "metadata": {},
   "outputs": [
    {
     "data": {
      "text/plain": [
       "array([4., 6., 7., 3., 4., 5., 5., 4., 7., 4., 5., 4., 5., 5., 4., 4., 4.,\n",
       "       6., 2., 1., 3., 5., 4., 3., 5.])"
      ]
     },
     "execution_count": 2,
     "metadata": {},
     "output_type": "execute_result"
    }
   ],
   "source": [
    "X[:25, 0]"
   ]
  },
  {
   "cell_type": "markdown",
   "id": "bf0ba7ed",
   "metadata": {},
   "source": [
    "Make another version where we make x_0 purely categorical, with no order."
   ]
  },
  {
   "cell_type": "code",
   "execution_count": 22,
   "id": "22115d0f",
   "metadata": {},
   "outputs": [],
   "source": [
    "X_shuf = np.copy(X)\n",
    "X_shuf[:, 0] = (X_shuf[:, 0] + 7) % 9\n",
    "\n",
    "X_shuf_train, X_shuf_test, y_shuf_train, y_shuf_test = train_test_split(X_shuf, y)"
   ]
  },
  {
   "cell_type": "markdown",
   "id": "b285f0f6",
   "metadata": {},
   "source": [
    "## Train models on these datasets\n",
    "\n",
    "- What happens if I train on this scaled dataset? Presumably it's not too bad, since the variable is ordinal.\n",
    "- What if I mix the categories (i.e. make them non-ordinal) and train on that? Presumably it's bad.\n",
    "\n",
    "Train on scaled data."
   ]
  },
  {
   "cell_type": "code",
   "execution_count": 23,
   "id": "c978f25b",
   "metadata": {},
   "outputs": [],
   "source": [
    "from sklearn.preprocessing import StandardScaler\n",
    "\n",
    "scaler = StandardScaler()\n",
    "scaler.fit(X_train)\n",
    "X_train_sc = scaler.transform(X_train)\n",
    "X_test_sc = scaler.transform(X_test)"
   ]
  },
  {
   "cell_type": "code",
   "execution_count": 24,
   "id": "90f7fd97",
   "metadata": {},
   "outputs": [],
   "source": [
    "from sklearn.linear_model import LogisticRegression\n",
    "\n",
    "model = LogisticRegression()\n",
    "model.fit(X_train_sc, y_train)\n",
    "y_hat = model.predict(X_test_sc)"
   ]
  },
  {
   "cell_type": "code",
   "execution_count": 25,
   "id": "1d91b0fb",
   "metadata": {},
   "outputs": [
    {
     "name": "stdout",
     "output_type": "stream",
     "text": [
      "              precision    recall  f1-score   support\n",
      "\n",
      "           0       0.95      0.98      0.96      2132\n",
      "           1       0.84      0.68      0.75       368\n",
      "\n",
      "    accuracy                           0.93      2500\n",
      "   macro avg       0.89      0.83      0.86      2500\n",
      "weighted avg       0.93      0.93      0.93      2500\n",
      "\n"
     ]
    }
   ],
   "source": [
    "from sklearn.metrics import classification_report\n",
    "\n",
    "print(classification_report(y_test, y_hat))"
   ]
  },
  {
   "cell_type": "markdown",
   "id": "2c38d982",
   "metadata": {},
   "source": [
    "Now same thing but mix the categories first."
   ]
  },
  {
   "cell_type": "code",
   "execution_count": 27,
   "id": "2f9f72fe",
   "metadata": {},
   "outputs": [
    {
     "name": "stdout",
     "output_type": "stream",
     "text": [
      "              precision    recall  f1-score   support\n",
      "\n",
      "           0       0.95      0.98      0.96      2154\n",
      "           1       0.84      0.66      0.74       346\n",
      "\n",
      "    accuracy                           0.94      2500\n",
      "   macro avg       0.89      0.82      0.85      2500\n",
      "weighted avg       0.93      0.94      0.93      2500\n",
      "\n"
     ]
    }
   ],
   "source": [
    "scaler.fit(X_shuf_train)\n",
    "X_shuf_train_sc = scaler.transform(X_shuf_train)\n",
    "X_shuf_test_sc = scaler.transform(X_shuf_test)\n",
    "\n",
    "model = LogisticRegression()\n",
    "model.fit(X_shuf_train_sc, y_shuf_train)\n",
    "y_hat = model.predict(X_shuf_test_sc)\n",
    "\n",
    "print(classification_report(y_shuf_test, y_hat))"
   ]
  },
  {
   "cell_type": "markdown",
   "id": "47b54da9",
   "metadata": {},
   "source": [
    "## And do it properly\n",
    "\n",
    "We should dummy encode these things instead."
   ]
  },
  {
   "cell_type": "code",
   "execution_count": 29,
   "id": "5dfd5ef1",
   "metadata": {},
   "outputs": [],
   "source": [
    "from sklearn.compose import ColumnTransformer\n",
    "from sklearn.pipeline import make_pipeline\n",
    "from sklearn.preprocessing import OneHotEncoder\n",
    "\n",
    "numeric_features = [1, 2, 3]\n",
    "numeric_transformer = make_pipeline(StandardScaler())\n",
    "\n",
    "categorical_features = [0]\n",
    "categorical_transformer = make_pipeline(OneHotEncoder(drop='first'))\n",
    "\n",
    "preprocessor = ColumnTransformer(\n",
    "    transformers=[\n",
    "        (\"num\", numeric_transformer, numeric_features),\n",
    "        (\"cat\", categorical_transformer, categorical_features),\n",
    "    ]\n",
    ")\n",
    "\n",
    "pipe = make_pipeline(preprocessor, LogisticRegression())"
   ]
  },
  {
   "cell_type": "markdown",
   "id": "69444999",
   "metadata": {},
   "source": [
    "Now try datasets"
   ]
  },
  {
   "cell_type": "code",
   "execution_count": 30,
   "id": "44162656",
   "metadata": {},
   "outputs": [
    {
     "name": "stdout",
     "output_type": "stream",
     "text": [
      "              precision    recall  f1-score   support\n",
      "\n",
      "           0       0.96      0.98      0.97      2132\n",
      "           1       0.88      0.79      0.83       368\n",
      "\n",
      "    accuracy                           0.95      2500\n",
      "   macro avg       0.92      0.88      0.90      2500\n",
      "weighted avg       0.95      0.95      0.95      2500\n",
      "\n"
     ]
    }
   ],
   "source": [
    "pipe.fit(X_train, y_train)\n",
    "y_hat = pipe.predict(X_test)\n",
    "\n",
    "print(classification_report(y_test, y_hat))"
   ]
  },
  {
   "cell_type": "code",
   "execution_count": 31,
   "id": "8a80c742",
   "metadata": {},
   "outputs": [
    {
     "name": "stdout",
     "output_type": "stream",
     "text": [
      "              precision    recall  f1-score   support\n",
      "\n",
      "           0       0.96      0.98      0.97      2154\n",
      "           1       0.87      0.73      0.80       346\n",
      "\n",
      "    accuracy                           0.95      2500\n",
      "   macro avg       0.92      0.86      0.88      2500\n",
      "weighted avg       0.95      0.95      0.95      2500\n",
      "\n"
     ]
    }
   ],
   "source": [
    "pipe.fit(X_shuf_train, y_shuf_train)\n",
    "y_hat = pipe.predict(X_shuf_test)\n",
    "\n",
    "print(classification_report(y_shuf_test, y_hat))"
   ]
  },
  {
   "cell_type": "code",
   "execution_count": null,
   "id": "64448d4c",
   "metadata": {},
   "outputs": [],
   "source": []
  },
  {
   "cell_type": "code",
   "execution_count": null,
   "id": "71300c44",
   "metadata": {},
   "outputs": [],
   "source": []
  }
 ],
 "metadata": {
  "kernelspec": {
   "display_name": "py310",
   "language": "python",
   "name": "py310"
  },
  "language_info": {
   "codemirror_mode": {
    "name": "ipython",
    "version": 3
   },
   "file_extension": ".py",
   "mimetype": "text/x-python",
   "name": "python",
   "nbconvert_exporter": "python",
   "pygments_lexer": "ipython3",
   "version": "3.10.8"
  }
 },
 "nbformat": 4,
 "nbformat_minor": 5
}
