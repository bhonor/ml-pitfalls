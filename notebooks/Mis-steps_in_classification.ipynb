{
 "cells": [
  {
   "cell_type": "markdown",
   "id": "3a105ab0",
   "metadata": {},
   "source": [
    "# Mis-steps in classification"
   ]
  },
  {
   "cell_type": "code",
   "execution_count": null,
   "id": "6de5847e",
   "metadata": {},
   "outputs": [],
   "source": []
  }
 ],
 "metadata": {
  "kernelspec": {
   "display_name": "py311",
   "language": "python",
   "name": "py311"
  },
  "language_info": {
   "codemirror_mode": {
    "name": "ipython",
    "version": 3
   },
   "file_extension": ".py",
   "mimetype": "text/x-python",
   "name": "python",
   "nbconvert_exporter": "python",
   "pygments_lexer": "ipython3",
   "version": "3.11.0"
  }
 },
 "nbformat": 4,
 "nbformat_minor": 5
}
