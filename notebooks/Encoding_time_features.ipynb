{
 "cells": [
  {
   "cell_type": "markdown",
   "id": "04001f45",
   "metadata": {},
   "source": [
    "# Encoding time features\n",
    "\n",
    "Time is **continuous** and linear, but also often cyclical -- over various periods, eg days, months, or the 11-year solar cycle, or the Milankovitch cycles. These cycles could be regarded as **categorical** features, which presents a challenge: how to encode time to give ML models access to this cyclical nature?\n",
    "\n",
    "(The same goes for other cyclical phenomena.)\n",
    "\n",
    "Let's look at a few different approaches to encoding time, and see what a difference they make to a simple model's ability to predict the future.\n",
    "\n",
    "_This notebook adapts the material from [this NVIDIA blog post](https://developer.nvidia.com/blog/three-approaches-to-encoding-time-information-as-features-for-ml-models/) by Eryk Lewinson._"
   ]
  },
  {
   "cell_type": "markdown",
   "id": "3a9aca11",
   "metadata": {},
   "source": [
    "---\n",
    "\n",
    "## Generate some data\n",
    "\n",
    "We'll use DataFrames everywhere, because they are so convenient for time series."
   ]
  },
  {
   "cell_type": "code",
   "execution_count": null,
   "id": "30cb6e02",
   "metadata": {},
   "outputs": [],
   "source": [
    "import pandas as pd\n",
    "import numpy as np\n",
    "\n",
    "dates = pd.date_range(start=\"2018-01-01\", end=\"2023-08-31\")\n",
    "X = pd.Series(data=np.arange(dates.size), index=dates, name='X')\n",
    "X"
   ]
  },
  {
   "cell_type": "code",
   "execution_count": null,
   "id": "8d1814b5",
   "metadata": {},
   "outputs": [],
   "source": [
    "s0 = 3 + 3 * np.cos(2 * np.pi * day / 365)\n",
    "s1 = 4 * np.sin(6 * np.pi * day / 365)\n",
    "\n",
    "rng = np.random.default_rng(42)\n",
    "data = s0 + s1 + rng.normal(0, 1.0, len(df))\n",
    "y = pd.Series(data=data, index=dates, name='y')"
   ]
  },
  {
   "cell_type": "code",
   "execution_count": null,
   "id": "e58a00e4",
   "metadata": {},
   "outputs": [],
   "source": [
    "y.plot(figsize=(15, 3))"
   ]
  },
  {
   "cell_type": "code",
   "execution_count": null,
   "id": "888a01a9",
   "metadata": {},
   "outputs": [],
   "source": [
    "df = pd.DataFrame([X, y]).T"
   ]
  },
  {
   "cell_type": "markdown",
   "id": "7c76b707",
   "metadata": {},
   "source": [
    "## This won't work at all\n",
    "\n",
    "We'll use ordinary least squares linear regression throughout this notebook.\n",
    "\n",
    "Let's see what happens if we try to use linear, monotonic time as the predictor variable."
   ]
  },
  {
   "cell_type": "code",
   "execution_count": null,
   "id": "aba8e094",
   "metadata": {},
   "outputs": [],
   "source": [
    "from sklearn.linear_model import LinearRegression\n",
    "\n",
    "model_0 = LinearRegression()\n",
    "model_0.fit(df.loc[:'2021', ['X']], df.loc[:'2021', 'y'])\n",
    "\n",
    "df['y_0'] = model_0.predict(df[['X']])"
   ]
  },
  {
   "cell_type": "code",
   "execution_count": null,
   "id": "a42151e3",
   "metadata": {},
   "outputs": [],
   "source": [
    "df.loc[:'2021', 'y'].plot(figsize=(15,3))\n",
    "df['y_0'].plot(figsize=(15,3), title='linear monotonic time')"
   ]
  },
  {
   "cell_type": "markdown",
   "id": "9769ae1b",
   "metadata": {},
   "source": [
    "Not surprising: this feature contains no information. The best it can do is predict the mean of the signal.\n",
    "\n",
    "Another naive approach would be to try to encode the month as an integer:"
   ]
  },
  {
   "cell_type": "code",
   "execution_count": null,
   "id": "8016bbc4",
   "metadata": {},
   "outputs": [],
   "source": [
    "df['month'] = df.index.month\n",
    "\n",
    "model_00 = LinearRegression()\n",
    "model_00.fit(df.loc[:'2021', ['month']], df.loc[:'2021', 'y'])\n",
    "\n",
    "df[\"y_00\"] = model_00.predict(df.loc[:, ['month']])\n",
    "df.loc[:'2021', 'y'].plot(figsize=(15,3))\n",
    "df.loc[:, 'y_00'].plot(figsize=(15,3), title=\"Integer month\")"
   ]
  },
  {
   "cell_type": "markdown",
   "id": "bf343f40",
   "metadata": {},
   "source": [
    "This is an *ordinal* encoding. The model uses these integers as numbers with order and magnitude, not just as categorical labels. This is fine for some kinds of data, like linearly binned temperature data (say), because bin 3 is similar to bin 4, and bin 6 is twice bin 3, and so on. But it doesn't work for categories like rock type ('soft', 'hard', 'indie', 'glam', etc).\n",
    "\n",
    "And at first glance you might think months or days of the week are ordinal, but there is this circular aspect where Monday and Sunday are as far apart as Monday and Tuesday.\n",
    "\n",
    "In our case, the model is linear in 'month'. We are imposing the strong constraint that October is 2 &times; May, and January is as unlike December as you can be."
   ]
  },
  {
   "cell_type": "code",
   "execution_count": null,
   "id": "eb2d71ea",
   "metadata": {},
   "outputs": [],
   "source": [
    "plt.scatter(df.index.month, df['y'])\n",
    "x_ = (np.arange(12) + 1).reshape(-1, 1)\n",
    "y_ = model_00.predict(x_)\n",
    "plt.plot(x_, y_, 'o-', c='C1')"
   ]
  },
  {
   "cell_type": "markdown",
   "id": "a5ae7eaf",
   "metadata": {},
   "source": [
    "## Use one-hot encoding\n",
    "\n",
    "We need to break this constraint.\n",
    "\n",
    "A very common approach to encoding non-ordinal categorical variables is **one-hot encoding**. [Read the Wikipedia page about it.](https://en.wikipedia.org/wiki/One-hot#Machine_learning_and_statistics)\n",
    "\n",
    "In particular, we use 'dummy encoding', which is one-hot encoding but with one of the features dropped. The idea behind this is to avoid perfect multi-colinearity (perfectly correlated features), which can break the numerical tractability of least-squares. [Here's why.](https://en.wikipedia.org/wiki/Multicollinearity)\n",
    "\n",
    "[Pandas](https://pandas.pydata.org/docs/reference/api/pandas.get_dummies.html) and [sklearn](https://scikit-learn.org/stable/modules/generated/sklearn.preprocessing.OneHotEncoder.html) can each compute the dummy encoding."
   ]
  },
  {
   "cell_type": "code",
   "execution_count": null,
   "id": "a592c464",
   "metadata": {},
   "outputs": [],
   "source": [
    "X_1 = pd.DataFrame(\n",
    "    data=pd.get_dummies(X.index.month, drop_first=True, prefix=\"month\")\n",
    ")\n",
    "X_1.index = X.index\n",
    "X_1.resample('M').max()"
   ]
  },
  {
   "cell_type": "code",
   "execution_count": null,
   "id": "855deb6e",
   "metadata": {},
   "outputs": [],
   "source": [
    "model_1 = LinearRegression()\n",
    "model_1.fit(X_1.loc[:'2021'], df.loc[:'2021', 'y'])\n",
    "\n",
    "df[\"y_1\"] = model_1.predict(X_1)\n",
    "df.loc[:'2021', 'y'].plot(figsize=(15,3))\n",
    "df.loc[:, 'y_1'].plot(figsize=(15,3), title=\"One-hot\")"
   ]
  },
  {
   "cell_type": "markdown",
   "id": "eae7865b",
   "metadata": {},
   "source": [
    "## Sine/cosine transformers\n",
    "\n",
    "A common approach with cyclical features is to transform them into coordinates around a circle using sin and cos functions."
   ]
  },
  {
   "cell_type": "code",
   "execution_count": null,
   "id": "95971cb0",
   "metadata": {},
   "outputs": [],
   "source": [
    "from sklearn.preprocessing import FunctionTransformer\n",
    "\n",
    "def sin_transformer(period):\n",
    "    return FunctionTransformer(lambda x: np.sin(x / period * 2 * np.pi))\n",
    "\n",
    "def cos_transformer(period):\n",
    "    return FunctionTransformer(lambda x: np.cos(x / period * 2 * np.pi))"
   ]
  },
  {
   "cell_type": "code",
   "execution_count": null,
   "id": "642fa45a",
   "metadata": {},
   "outputs": [],
   "source": [
    "df['day'] = df.index.day_of_year\n",
    "df['month'] = df.index.month"
   ]
  },
  {
   "cell_type": "code",
   "execution_count": null,
   "id": "d3e0438a",
   "metadata": {},
   "outputs": [],
   "source": [
    "df[\"month_sin\"] = sin_transformer(12).fit_transform(X_2)[\"month\"]\n",
    "df[\"month_cos\"] = cos_transformer(12).fit_transform(X_2)[\"month\"]\n",
    "\n",
    "df[\"day_sin\"] = sin_transformer(365).fit_transform(X_2)[\"day\"]\n",
    "df[\"day_cos\"] = cos_transformer(365).fit_transform(X_2)[\"day\"]\n",
    "\n",
    "fig, ax = plt.subplots(2, 1, sharex=True, figsize=(16,8))\n",
    "df[[\"month_sin\", \"month_cos\"]].plot(ax=ax[0])\n",
    "df[[\"day_sin\", \"day_cos\"]].plot(ax=ax[1])\n",
    "plt.suptitle(\"Cyclical encoding with sine/cosine transformation\");"
   ]
  },
  {
   "cell_type": "code",
   "execution_count": null,
   "id": "1b6e2be6",
   "metadata": {},
   "outputs": [],
   "source": [
    "X_2 = df.loc[:, [\"day_sin\", \"day_cos\", \"month_sin\", \"month_cos\"]]"
   ]
  },
  {
   "cell_type": "code",
   "execution_count": null,
   "id": "59921cf2",
   "metadata": {},
   "outputs": [],
   "source": [
    "model_2 = LinearRegression()\n",
    "model_2.fit(X_2.loc[:'2021'], df.loc[:'2021', 'y'])\n",
    "\n",
    "df[\"y_2\"] = model_2.predict(X_2)\n",
    "df.loc[:'2021', 'y'].plot(figsize=(15,3))\n",
    "df.loc[:, 'y_2'].plot(figsize=(15,3), title=\"Sinusoidal encoding\")"
   ]
  },
  {
   "cell_type": "markdown",
   "id": "10b62860",
   "metadata": {},
   "source": [
    "It seemed intuitively sound, but in fact it does not even work as well as the one-hot encoding."
   ]
  },
  {
   "cell_type": "markdown",
   "id": "8067c43d",
   "metadata": {},
   "source": [
    "## Radial basis function\n",
    "\n",
    "RBFs are everywhere these days, although they are a fairly new idea (boomed in the 1990's I think). \n",
    "\n",
    "We can make a function that describes the distance of a time point from periodic moments, eg the first of the month."
   ]
  },
  {
   "cell_type": "code",
   "execution_count": null,
   "id": "87d8c67a",
   "metadata": {},
   "outputs": [],
   "source": [
    "from sklego.preprocessing import RepeatingBasisFunction\n",
    "\n",
    "rbf = RepeatingBasisFunction(n_periods=12,\n",
    "                             column=\"day\",\n",
    "                             input_range=(1, 365),\n",
    "                             remainder=\"drop\"\n",
    "                            )\n",
    "\n",
    "rbf.fit(df)\n",
    "X_3 = pd.DataFrame(index=X.index,\n",
    "                   data=rbf.transform(df)\n",
    "                  )\n",
    "\n",
    "X_3.plot(subplots=True, figsize=(14, 8),\n",
    "         sharex=True, title=\"Radial Basis Functions\",\n",
    "         legend=False\n",
    "        )"
   ]
  },
  {
   "cell_type": "markdown",
   "id": "d8b6d49a",
   "metadata": {},
   "source": [
    "These turn out to work really well."
   ]
  },
  {
   "cell_type": "code",
   "execution_count": null,
   "id": "bb00cf13",
   "metadata": {},
   "outputs": [],
   "source": [
    "model_3 = LinearRegression()\n",
    "model_3.fit(X_3.loc[:'2021'], df.loc[:'2021', 'y'])\n",
    "\n",
    "df[\"y_1\"] = model_3.predict(X_3)\n",
    "df.loc[:'2021', 'y'].plot(figsize=(15,3))\n",
    "df.loc[:, 'y_1'].plot(figsize=(15,3), title=\"RBFs\")"
   ]
  },
  {
   "cell_type": "markdown",
   "id": "decbb6b8",
   "metadata": {},
   "source": [
    "Hm, seems like an interesting way to spectrally decompose signals...? 🤔"
   ]
  },
  {
   "cell_type": "markdown",
   "id": "8efa9576",
   "metadata": {},
   "source": [
    "---\n",
    "\n",
    "&copy; 2023 Matt Hall, licensed CC BY"
   ]
  }
 ],
 "metadata": {
  "kernelspec": {
   "display_name": "py311",
   "language": "python",
   "name": "py311"
  },
  "language_info": {
   "codemirror_mode": {
    "name": "ipython",
    "version": 3
   },
   "file_extension": ".py",
   "mimetype": "text/x-python",
   "name": "python",
   "nbconvert_exporter": "python",
   "pygments_lexer": "ipython3",
   "version": "3.11.5"
  }
 },
 "nbformat": 4,
 "nbformat_minor": 5
}
