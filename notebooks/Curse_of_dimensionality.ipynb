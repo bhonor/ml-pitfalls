{
 "cells": [
  {
   "cell_type": "markdown",
   "id": "3ff0cc94",
   "metadata": {},
   "source": [
    "# The curse of dimensionality\n",
    "\n",
    "First of all, let's make sure we know what we're talking about with this word 'dimensionality'.\n",
    "\n",
    "<h3>❓ How can 'a 2D array' have 'a lot of dimensions'?</h3>\n",
    "\n",
    "---"
   ]
  },
  {
   "cell_type": "markdown",
   "id": "f45f393f",
   "metadata": {},
   "source": [
    "<h3>❓ What is the problem with having a lot of features?</h3>"
   ]
  },
  {
   "cell_type": "markdown",
   "id": "2897eb08",
   "metadata": {},
   "source": [
    "## The diagonal of the unit hypercube"
   ]
  },
  {
   "cell_type": "code",
   "execution_count": null,
   "id": "b0f1d22a",
   "metadata": {},
   "outputs": [],
   "source": [
    "import numpy as np\n",
    "import matplotlib.pyplot as plt\n",
    "\n"
   ]
  },
  {
   "cell_type": "markdown",
   "id": "cfd0b0f7",
   "metadata": {},
   "source": [
    "## The volume of a unit ball\n",
    "\n",
    "The volume of the unit ball in $n$ dimensions is given by:\n",
    "\n",
    "$$ V_n = \\frac{\\pi^{n/2}}{\\Gamma (\\frac{n}{2} + 1)} $$"
   ]
  },
  {
   "cell_type": "code",
   "execution_count": 6,
   "id": "c868c19f",
   "metadata": {},
   "outputs": [],
   "source": [
    "from scipy.special import gamma\n",
    "\n"
   ]
  },
  {
   "cell_type": "markdown",
   "id": "9047759a",
   "metadata": {},
   "source": [
    "High-dimensional hypercubes have a lot of corners!"
   ]
  },
  {
   "cell_type": "code",
   "execution_count": null,
   "id": "d39be487",
   "metadata": {},
   "outputs": [],
   "source": []
  },
  {
   "cell_type": "markdown",
   "id": "4f3eb906",
   "metadata": {},
   "source": [
    "## The distance between two random points in n-space"
   ]
  },
  {
   "cell_type": "code",
   "execution_count": null,
   "id": "ebb7bd19",
   "metadata": {},
   "outputs": [],
   "source": [
    "import seaborn as sns\n",
    "from scipy.spatial.distance import pdist\n",
    "\n"
   ]
  },
  {
   "cell_type": "markdown",
   "id": "68c26236",
   "metadata": {},
   "source": [
    "## Data coverage\n",
    "\n",
    "±3 standard deviations covers 97% of my univariate distribution. So the same sampling of two features covers 0.97<sup>2</sup> of the bivariate distribution.\n",
    "\n",
    "What if I have 100 dimensions? "
   ]
  },
  {
   "cell_type": "code",
   "execution_count": null,
   "id": "bcf5d1eb",
   "metadata": {},
   "outputs": [],
   "source": []
  },
  {
   "cell_type": "markdown",
   "id": "2c65182c",
   "metadata": {},
   "source": [
    "---\n",
    "\n",
    "&copy; 2023 Matt Hall, licensed CC BY"
   ]
  }
 ],
 "metadata": {
  "kernelspec": {
   "display_name": "py310",
   "language": "python",
   "name": "py310"
  },
  "language_info": {
   "codemirror_mode": {
    "name": "ipython",
    "version": 3
   },
   "file_extension": ".py",
   "mimetype": "text/x-python",
   "name": "python",
   "nbconvert_exporter": "python",
   "pygments_lexer": "ipython3",
   "version": "3.10.9"
  }
 },
 "nbformat": 4,
 "nbformat_minor": 5
}
