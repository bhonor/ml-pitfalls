{
 "cells": [
  {
   "cell_type": "markdown",
   "id": "cf749d6e",
   "metadata": {},
   "source": [
    "# Splitting imbalanced data\n",
    "\n",
    "Let's look at how you can run into trouble when you split datasets with strong class imbalance."
   ]
  },
  {
   "cell_type": "code",
   "execution_count": null,
   "id": "0c0b2030",
   "metadata": {},
   "outputs": [],
   "source": [
    "from sklearn.datasets import make_classification\n",
    "\n",
    "X, y = make_classification(weights=[0.85], random_state=1111)"
   ]
  },
  {
   "cell_type": "code",
   "execution_count": null,
   "id": "e814aa49",
   "metadata": {},
   "outputs": [],
   "source": [
    "from sklearn.model_selection import train_test_split\n",
    "\n",
    "for i in range(1000):\n",
    "    _, _, _, y_test = train_test_split(X, y, random_state=i)\n",
    "    if (yl := len(y_test[y_test == 1])) == 0:\n",
    "        print(i)\n",
    "        \n",
    "# These are the experiments with no minority samples in test."
   ]
  },
  {
   "cell_type": "markdown",
   "id": "0d2872cc",
   "metadata": {},
   "source": [
    "So in this moderately imbalanced dataset, 13 splits resulted in there being **no samples** from the minority class in the small side (i.e. `test`) of the split. That is, it worked out super-badly 1% of the time (and just 'badly' I don't know how often... should redo the experiment counting how often the representation is worse than expected).\n",
    "\n",
    "Let's see what happens when we train on this."
   ]
  },
  {
   "cell_type": "code",
   "execution_count": null,
   "id": "a9e24195",
   "metadata": {},
   "outputs": [],
   "source": [
    "from sklearn.linear_model import LogisticRegression\n",
    "\n",
    "# Choose the first bad seed...\n",
    "X_train, X_test, y_train, y_test = train_test_split(X, y, random_state=142)\n",
    "\n",
    "model = LogisticRegression()\n",
    "model.fit(X_train, y_train)\n",
    "y_hat = model.predict(X_test)"
   ]
  },
  {
   "cell_type": "code",
   "execution_count": null,
   "id": "3f4cfa3d",
   "metadata": {},
   "outputs": [],
   "source": [
    "from sklearn.metrics import classification_report\n",
    "\n",
    "print(classification_report(y_test, y_hat))"
   ]
  },
  {
   "cell_type": "markdown",
   "id": "42e0759f",
   "metadata": {},
   "source": [
    "Sometimes everything seems to work... except all the labels in both `y_test` and `y_hat` are of the majority class.\n",
    "\n",
    "If there are minority labels in `y_hat` then we will see a `UndefinedMetricWarning` suggesting something is wrong."
   ]
  },
  {
   "cell_type": "code",
   "execution_count": null,
   "id": "93815cf8",
   "metadata": {
    "scrolled": true
   },
   "outputs": [],
   "source": [
    "y_hat"
   ]
  },
  {
   "cell_type": "code",
   "execution_count": null,
   "id": "9ba276bf",
   "metadata": {},
   "outputs": [],
   "source": [
    "y_test"
   ]
  },
  {
   "cell_type": "markdown",
   "id": "b52450c8",
   "metadata": {},
   "source": [
    "### But most of the time, we will just have very few minority examples in the test set and we might not notice anything especially bad."
   ]
  }
 ],
 "metadata": {
  "kernelspec": {
   "display_name": "py310",
   "language": "python",
   "name": "py310"
  },
  "language_info": {
   "codemirror_mode": {
    "name": "ipython",
    "version": 3
   },
   "file_extension": ".py",
   "mimetype": "text/x-python",
   "name": "python",
   "nbconvert_exporter": "python",
   "pygments_lexer": "ipython3",
   "version": "3.10.9"
  }
 },
 "nbformat": 4,
 "nbformat_minor": 5
}
