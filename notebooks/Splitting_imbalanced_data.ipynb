{
 "cells": [
  {
   "cell_type": "markdown",
   "id": "cf749d6e",
   "metadata": {},
   "source": [
    "# Splitting imbalanced data"
   ]
  },
  {
   "cell_type": "code",
   "execution_count": 22,
   "id": "0c0b2030",
   "metadata": {},
   "outputs": [],
   "source": [
    "from sklearn.datasets import make_classification\n",
    "\n",
    "X, y = make_classification(weights=[0.85])"
   ]
  },
  {
   "cell_type": "code",
   "execution_count": 24,
   "id": "e814aa49",
   "metadata": {},
   "outputs": [
    {
     "name": "stdout",
     "output_type": "stream",
     "text": [
      "212\n",
      "255\n",
      "279\n",
      "282\n",
      "351\n",
      "366\n",
      "425\n",
      "733\n",
      "913\n"
     ]
    }
   ],
   "source": [
    "from sklearn.model_selection import train_test_split\n",
    "\n",
    "for i in range(1000):\n",
    "    _, _, _, y_test = train_test_split(X, y, random_state=i)\n",
    "    if (yl := len(y_test[y_test == 1])) == 0:\n",
    "        print(i)"
   ]
  },
  {
   "cell_type": "markdown",
   "id": "0d2872cc",
   "metadata": {},
   "source": [
    "So in this moderately imbalanced dataset, nine splits resulted in there being **no samples** from the minority class in the small side (i.e. `test`) of the split.\n",
    "\n",
    "Let's see what happens when we train on this."
   ]
  },
  {
   "cell_type": "code",
   "execution_count": 42,
   "id": "a9e24195",
   "metadata": {},
   "outputs": [],
   "source": [
    "from sklearn.linear_model import LogisticRegression\n",
    "\n",
    "# Try 212 then 255\n",
    "X_train, X_test, y_train, y_test = train_test_split(X, y, random_state=279)\n",
    "\n",
    "model = LogisticRegression()\n",
    "model.fit(X_train, y_train)\n",
    "y_hat = model.predict(X_test)"
   ]
  },
  {
   "cell_type": "code",
   "execution_count": 43,
   "id": "3f4cfa3d",
   "metadata": {},
   "outputs": [
    {
     "name": "stdout",
     "output_type": "stream",
     "text": [
      "              precision    recall  f1-score   support\n",
      "\n",
      "           0       1.00      0.92      0.96        25\n",
      "           1       0.00      0.00      0.00         0\n",
      "\n",
      "    accuracy                           0.92        25\n",
      "   macro avg       0.50      0.46      0.48        25\n",
      "weighted avg       1.00      0.92      0.96        25\n",
      "\n"
     ]
    },
    {
     "name": "stderr",
     "output_type": "stream",
     "text": [
      "/home/data1/bin/miniconda3/envs/py310/lib/python3.10/site-packages/sklearn/metrics/_classification.py:1334: UndefinedMetricWarning: Recall and F-score are ill-defined and being set to 0.0 in labels with no true samples. Use `zero_division` parameter to control this behavior.\n",
      "  _warn_prf(average, modifier, msg_start, len(result))\n",
      "/home/data1/bin/miniconda3/envs/py310/lib/python3.10/site-packages/sklearn/metrics/_classification.py:1334: UndefinedMetricWarning: Recall and F-score are ill-defined and being set to 0.0 in labels with no true samples. Use `zero_division` parameter to control this behavior.\n",
      "  _warn_prf(average, modifier, msg_start, len(result))\n",
      "/home/data1/bin/miniconda3/envs/py310/lib/python3.10/site-packages/sklearn/metrics/_classification.py:1334: UndefinedMetricWarning: Recall and F-score are ill-defined and being set to 0.0 in labels with no true samples. Use `zero_division` parameter to control this behavior.\n",
      "  _warn_prf(average, modifier, msg_start, len(result))\n"
     ]
    }
   ],
   "source": [
    "from sklearn.metrics import classification_report\n",
    "\n",
    "print(classification_report(y_test, y_hat))"
   ]
  },
  {
   "cell_type": "markdown",
   "id": "42e0759f",
   "metadata": {},
   "source": [
    "Sometimes everything seems to work... except all the labels in both `y_test` and `y_hat` are of the majority class.\n",
    "\n",
    "If there are minority labels in `y_hat` then we will see a `UndefinedMetricWarning` suggesting something is wrong."
   ]
  },
  {
   "cell_type": "code",
   "execution_count": 44,
   "id": "93815cf8",
   "metadata": {
    "scrolled": true
   },
   "outputs": [
    {
     "data": {
      "text/plain": [
       "array([0, 0, 0, 0, 0, 1, 0, 1, 0, 0, 0, 0, 0, 0, 0, 0, 0, 0, 0, 0, 0, 0,\n",
       "       0, 0, 0])"
      ]
     },
     "execution_count": 44,
     "metadata": {},
     "output_type": "execute_result"
    }
   ],
   "source": [
    "y_hat"
   ]
  },
  {
   "cell_type": "code",
   "execution_count": 45,
   "id": "9ba276bf",
   "metadata": {},
   "outputs": [
    {
     "data": {
      "text/plain": [
       "array([0, 0, 0, 0, 0, 0, 0, 0, 0, 0, 0, 0, 0, 0, 0, 0, 0, 0, 0, 0, 0, 0,\n",
       "       0, 0, 0])"
      ]
     },
     "execution_count": 45,
     "metadata": {},
     "output_type": "execute_result"
    }
   ],
   "source": [
    "y_test"
   ]
  },
  {
   "cell_type": "markdown",
   "id": "b52450c8",
   "metadata": {},
   "source": [
    "### But most of the time, we will just have very few minority examples in the test set and we might not notice anything especially bad."
   ]
  },
  {
   "cell_type": "code",
   "execution_count": null,
   "id": "b1f14d5d",
   "metadata": {},
   "outputs": [],
   "source": []
  }
 ],
 "metadata": {
  "kernelspec": {
   "display_name": "py310",
   "language": "python",
   "name": "py310"
  },
  "language_info": {
   "codemirror_mode": {
    "name": "ipython",
    "version": 3
   },
   "file_extension": ".py",
   "mimetype": "text/x-python",
   "name": "python",
   "nbconvert_exporter": "python",
   "pygments_lexer": "ipython3",
   "version": "3.10.8"
  }
 },
 "nbformat": 4,
 "nbformat_minor": 5
}
